{
 "cells": [
  {
   "cell_type": "markdown",
   "metadata": {},
   "source": [
    "# 常量与变量"
   ]
  },
  {
   "cell_type": "markdown",
   "metadata": {},
   "source": [
    "`var`声明变量，`val`用来声明常量，如果方法返回值是元组，可以用`val`来声明元组。"
   ]
  },
  {
   "cell_type": "code",
   "execution_count": 26,
   "metadata": {},
   "outputs": [
    {
     "name": "stdout",
     "output_type": "stream",
     "text": [
      "Foo\n",
      "Foo2\n"
     ]
    },
    {
     "data": {
      "text/plain": [
       "GOGO"
      ]
     },
     "execution_count": 26,
     "metadata": {},
     "output_type": "execute_result"
    }
   ],
   "source": [
    "var myVar:String = \"Foo\"\n",
    "println(myVar)\n",
    "myVar = \"Foo2\"\n",
    "println(myVar)\n",
    "// val 表示常量 \n",
    "val myVal : String = \"GOGO\"\n",
    "myVal"
   ]
  },
  {
   "cell_type": "markdown",
   "metadata": {},
   "source": [
    "# 方法与函数"
   ]
  },
  {
   "cell_type": "markdown",
   "metadata": {},
   "source": [
    "Scala 中有方法与函数，二者在语义上区别很小。简单来说，方法是类的一部分，函数继承自 `Trait`,是一个完整对象，定义在类中的函数即是方法.\n",
    "Scala 中用 `val` 语句定义函数，`def` 语句定义方法。"
   ]
  },
  {
   "cell_type": "code",
   "execution_count": 27,
   "metadata": {},
   "outputs": [
    {
     "data": {
      "text/plain": [
       "Returned Value:9"
      ]
     },
     "execution_count": 27,
     "metadata": {},
     "output_type": "execute_result"
    }
   ],
   "source": [
    "def addInt(a:Int,b:Int) : Int= {\n",
    "    return a+b\n",
    "}\n",
    "\"Returned Value:\" + addInt(4,5)"
   ]
  },
  {
   "cell_type": "code",
   "execution_count": null,
   "metadata": {},
   "outputs": [],
   "source": []
  }
 ],
 "metadata": {
  "kernelspec": {
   "display_name": "Scala",
   "language": "scala",
   "name": "scala"
  },
  "language_info": {
   "codemirror_mode": "text/x-scala",
   "file_extension": ".scala",
   "mimetype": "",
   "name": "Scala",
   "nbconverter_exporter": "",
   "version": "2.12.8"
  }
 },
 "nbformat": 4,
 "nbformat_minor": 4
}
