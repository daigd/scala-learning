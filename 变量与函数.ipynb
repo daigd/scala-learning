{
 "cells": [
  {
   "cell_type": "markdown",
   "metadata": {},
   "source": [
    "# 常量与变量"
   ]
  },
  {
   "cell_type": "markdown",
   "metadata": {},
   "source": [
    "`var`声明变量，`val`用来声明常量，如果方法返回值是元组，可以用`val`来声明元组。"
   ]
  },
  {
   "cell_type": "code",
   "execution_count": 8,
   "metadata": {},
   "outputs": [
    {
     "name": "stdout",
     "output_type": "stream",
     "text": [
      "Foo\n",
      "Foo2\n"
     ]
    },
    {
     "data": {
      "text/plain": [
       "GOGO"
      ]
     },
     "execution_count": 8,
     "metadata": {},
     "output_type": "execute_result"
    }
   ],
   "source": [
    "var myVar:String = \"Foo\"\n",
    "println(myVar)\n",
    "myVar = \"Foo2\"\n",
    "println(myVar)\n",
    "// val 表示常量 \n",
    "val myVal : String = \"GOGO\"\n",
    "myVal"
   ]
  },
  {
   "cell_type": "markdown",
   "metadata": {},
   "source": [
    "# 修饰符"
   ]
  },
  {
   "cell_type": "markdown",
   "metadata": {},
   "source": [
    "Scala中`private`比Java更严格，在嵌套类的情况下，外部类也不能访问内部类的私有成员。"
   ]
  },
  {
   "cell_type": "code",
   "execution_count": 10,
   "metadata": {},
   "outputs": [
    {
     "ename": "<console>",
     "evalue": "21",
     "output_type": "error",
     "traceback": [
      "\u001b[1;31m<console>:21: error: method f in class Inner cannot be accessed in Outer.this.Inner\u001b[0;0m",
      "\u001b[1;31m       (new Inner()).f() // 错误，无访问权限\u001b[0;0m",
      "\u001b[1;31m                     ^\u001b[0;0m"
     ]
    }
   ],
   "source": [
    "class Outer{\n",
    "    class Inner{\n",
    "        private def f(){\n",
    "            println(\"f()\")\n",
    "        }\n",
    "        class InnerMost{\n",
    "            f() // 正确,在Inner类里，能访问到f()\n",
    "        }\n",
    "    }\n",
    "    (new Inner()).f() // 错误，无访问权限\n",
    "}"
   ]
  },
  {
   "cell_type": "markdown",
   "metadata": {},
   "source": [
    "`protected`在Scala中也局限于子类访问，如果没有显式指定修饰符，默认为`public`。"
   ]
  },
  {
   "cell_type": "markdown",
   "metadata": {},
   "source": [
    "## 作用域保护"
   ]
  },
  {
   "cell_type": "markdown",
   "metadata": {},
   "source": [
    "形如：`private[x]`或`protected[x]`，这里`x`指代某个所属的包、类或对象，意思是修饰的成员除了对`x`(所属的包或类或对象)可见外，对其它类都是`private`或`protected`。"
   ]
  },
  {
   "cell_type": "markdown",
   "metadata": {},
   "source": [
    "# 方法与函数"
   ]
  },
  {
   "cell_type": "markdown",
   "metadata": {},
   "source": [
    "Scala 中有方法与函数，二者在语义上区别很小。简单来说，方法是类的一部分，函数继承自 `Trait`,是一个完整对象，定义在类中的函数即是方法.\n",
    "Scala 中用 `val` 语句定义函数，`def` 语句定义方法。"
   ]
  },
  {
   "cell_type": "code",
   "execution_count": 22,
   "metadata": {},
   "outputs": [
    {
     "data": {
      "text/plain": [
       "Returned Value:9"
      ]
     },
     "execution_count": 22,
     "metadata": {},
     "output_type": "execute_result"
    }
   ],
   "source": [
    "def addInt(a:Int,b:Int) : Int= {\n",
    "    return a+b\n",
    "}\n",
    "\"Returned Value:\" + addInt(4,5)"
   ]
  }
 ],
 "metadata": {
  "kernelspec": {
   "display_name": "Scala",
   "language": "scala",
   "name": "scala"
  },
  "language_info": {
   "codemirror_mode": "text/x-scala",
   "file_extension": ".scala",
   "mimetype": "",
   "name": "Scala",
   "nbconverter_exporter": "",
   "version": "2.12.8"
  }
 },
 "nbformat": 4,
 "nbformat_minor": 4
}
